{
 "cells": [
  {
   "cell_type": "markdown",
   "metadata": {},
   "source": [
    "### Construct polygenic risk scores using LDpred"
   ]
  },
  {
   "cell_type": "code",
   "execution_count": 4,
   "metadata": {},
   "outputs": [
    {
     "name": "stdout",
     "output_type": "stream",
     "text": [
      "The rpy2.ipython extension is already loaded. To reload it, use:\n",
      "  %reload_ext rpy2.ipython\n"
     ]
    }
   ],
   "source": [
    "%load_ext rpy2.ipython"
   ]
  },
  {
   "cell_type": "code",
   "execution_count": null,
   "metadata": {},
   "outputs": [],
   "source": [
    "plink \\\n",
    "    --bfile gtex_target.QC \\\n",
    "    --keep gtex_geno.valid.sample \\\n",
    "    --make-bed \\\n",
    "    --out gtex_target.ldpred"
   ]
  },
  {
   "cell_type": "code",
   "execution_count": null,
   "metadata": {},
   "outputs": [],
   "source": [
    "cd /home/jinggu/projects/polygenic_risks/output/ldpred\n",
    "ldpred coord \\\n",
    "    --rs SNP \\\n",
    "    --A1 A1 \\\n",
    "    --A2 A2 \\\n",
    "    --pos BP \\\n",
    "    --chr CHR \\\n",
    "    --pval P \\\n",
    "    --eff OR \\\n",
    "    --ssf-format CUSTOM \\\n",
    "    --N 20883 \\\n",
    "    --ssf ./gwas/EUR.CD.gwas_info03_filtered.assoc.QC.hg38.gz \\\n",
    "    --out  gtex_target.coord\\\n",
    "    --gf /home/jinggu/scratch-midway2/gtex_plink/gtex_target.ldpred"
   ]
  },
  {
   "cell_type": "code",
   "execution_count": null,
   "metadata": {},
   "outputs": [],
   "source": [
    "f = open(\"./\")"
   ]
  },
  {
   "cell_type": "code",
   "execution_count": 4,
   "metadata": {},
   "outputs": [
    {
     "name": "stderr",
     "output_type": "stream",
     "text": [
      "\n",
      "PRSice 2.2.5 (30 July 2019) \n",
      "https://github.com/choishingwan/PRSice\n",
      "(C) 2016-2019 Shing Wan (Sam) Choi and Paul F. O'Reilly\n",
      "GNU General Public License v3\n",
      "\n",
      "If you use PRSice in any published work, please cite:\n",
      "Choi SW, O'Reilly PF.\n",
      "PRSice-2: Polygenic Risk Score Software for Biobank-Scale Data.\n",
      "GigaScience 8, no. 7 (July 1, 2019)\n",
      "\n",
      "2020-03-24 12:37:18\n",
      "./PRSice_linux \\\n",
      "    --A1 A1 \\\n",
      "    --bar-levels 0.001,0.05,0.1,0.2,0.3,0.4,0.5,1 \\\n",
      "    --base /home/jinggu/projects/polygenic_risks/output/lassosum/gwas/EUR.CD.gwas_info03_filtered.assoc.QC.hg38.gz \\\n",
      "    --binary-target T \\\n",
      "    --bp BP \\\n",
      "    --chr CHR \\\n",
      "    --clump-kb 250 \\\n",
      "    --clump-p 1.000000 \\\n",
      "    --clump-r2 0.100000 \\\n",
      "    --extract /home/jinggu/scratch-midway2/gtex_plink/gtex_target.QC.fake.fam \\\n",
      "    --interval 5e-05 \\\n",
      "    --keep /home/jinggu/scratch-midway2/gtex_plink/gtex_target.QC.fake.fam \\\n",
      "    --lower 5e-08 \\\n",
      "    --missing MEAN_IMPUTE \\\n",
      "    --model add \\\n",
      "    --or  \\\n",
      "    --out PRSice \\\n",
      "    --pvalue P \\\n",
      "    --score avg \\\n",
      "    --seed 3230010550 \\\n",
      "    --snp SNP \\\n",
      "    --stat OR \\\n",
      "    --target /home/jinggu/scratch-midway2/gtex_plink/gtex_target.QC \\\n",
      "    --thread 4 \\\n",
      "    --upper 0.5\n",
      "\n",
      "\n",
      "\u001b[1;33mWarning: ds not found in base file \u001b[0m\n",
      " \n",
      "\n",
      "Initializing Genotype file: \n",
      "/home/jinggu/scratch-midway2/gtex_plink/gtex_target.QC \n",
      "(bed) \n",
      " \n",
      "\n",
      "Start processing EUR.CD.gwas_info03_filtered.assoc.QC.hg38 \n",
      "================================================== \n",
      "\n",
      "SNP extraction/exclusion list contains 6 columns, will \n",
      "assume second column contains the SNP ID \n",
      "\n",
      "Due to library restrictions, we cannot display progress bar \n",
      "for gz \n",
      "\n",
      "Reading 100.00%\n",
      "Base file: \n",
      "/home/jinggu/projects/polygenic_risks/output/lassosum/gwas/EUR.CD.gwas_info03_filtered.assoc.QC.hg38.gz \n",
      "GZ file detected. Header of file is: \n",
      "\n",
      "CHR\tSNP\tBP\tA1\tA2\tFRQ_A_5956\tFRQ_U_14927\tINFO\tOR\tSE\tP\tDirection\tHetISqt\tHetPVa\tnstudies\tstudies_included \n",
      " \n",
      "7809056 variant(s) observed in base file, with: \n",
      "3 duplicated variant(s) \n",
      "7809053 variant(s) excluded based on user input \n",
      "0 total variant(s) included from base file \n",
      " \n",
      " \n",
      "\n",
      "\u001b[1;31mError: No valid variant remaining \u001b[0m\n",
      "\n",
      "Error: \n",
      "Execution halted\n"
     ]
    },
    {
     "ename": "CalledProcessError",
     "evalue": "Command 'b'cd /home/jinggu/softwares/PRSice-2\\nRscript PRSice.R --dir . \\\\\\n    --prsice PRSice_linux \\\\\\n    --base /home/jinggu/projects/polygenic_risks/output/lassosum/gwas/EUR.CD.gwas_info03_filtered.assoc.QC.hg38.gz \\\\\\n    --target  /home/jinggu/scratch-midway2/gtex_plink/gtex_target.QC \\\\\\n    --keep  /home/jinggu/scratch-midway2/gtex_plink/gtex_target.QC.fake.fam \\\\\\n    --extract  /home/jinggu/scratch-midway2/gtex_plink/gtex_target.QC.fake.fam \\\\\\n    --binary-target T \\\\\\n    --thread 4 \\\\\\n    --stat OR \\\\\\n    --A2 ds\\n'' returned non-zero exit status 1.",
     "output_type": "error",
     "traceback": [
      "\u001b[0;31m---------------------------------------------------------------------------\u001b[0m",
      "\u001b[0;31mCalledProcessError\u001b[0m                        Traceback (most recent call last)",
      "\u001b[0;32m<ipython-input-4-02c7754e5154>\u001b[0m in \u001b[0;36m<module>\u001b[0;34m\u001b[0m\n\u001b[0;32m----> 1\u001b[0;31m \u001b[0mget_ipython\u001b[0m\u001b[0;34m(\u001b[0m\u001b[0;34m)\u001b[0m\u001b[0;34m.\u001b[0m\u001b[0mrun_cell_magic\u001b[0m\u001b[0;34m(\u001b[0m\u001b[0;34m'bash'\u001b[0m\u001b[0;34m,\u001b[0m \u001b[0;34m''\u001b[0m\u001b[0;34m,\u001b[0m \u001b[0;34m'cd /home/jinggu/softwares/PRSice-2\\nRscript PRSice.R --dir . \\\\\\n    --prsice PRSice_linux \\\\\\n    --base /home/jinggu/projects/polygenic_risks/output/lassosum/gwas/EUR.CD.gwas_info03_filtered.assoc.QC.hg38.gz \\\\\\n    --target  /home/jinggu/scratch-midway2/gtex_plink/gtex_target.QC \\\\\\n    --keep  /home/jinggu/scratch-midway2/gtex_plink/gtex_target.QC.fake.fam \\\\\\n    --extract  /home/jinggu/scratch-midway2/gtex_plink/gtex_target.QC.fake.fam \\\\\\n    --binary-target T \\\\\\n    --thread 4 \\\\\\n    --stat OR \\\\\\n    --A2 ds\\n'\u001b[0m\u001b[0;34m)\u001b[0m\u001b[0;34m\u001b[0m\u001b[0;34m\u001b[0m\u001b[0m\n\u001b[0m",
      "\u001b[0;32m~/env/py3/lib/python3.7/site-packages/IPython/core/interactiveshell.py\u001b[0m in \u001b[0;36mrun_cell_magic\u001b[0;34m(self, magic_name, line, cell)\u001b[0m\n\u001b[1;32m   2350\u001b[0m             \u001b[0;32mwith\u001b[0m \u001b[0mself\u001b[0m\u001b[0;34m.\u001b[0m\u001b[0mbuiltin_trap\u001b[0m\u001b[0;34m:\u001b[0m\u001b[0;34m\u001b[0m\u001b[0;34m\u001b[0m\u001b[0m\n\u001b[1;32m   2351\u001b[0m                 \u001b[0margs\u001b[0m \u001b[0;34m=\u001b[0m \u001b[0;34m(\u001b[0m\u001b[0mmagic_arg_s\u001b[0m\u001b[0;34m,\u001b[0m \u001b[0mcell\u001b[0m\u001b[0;34m)\u001b[0m\u001b[0;34m\u001b[0m\u001b[0;34m\u001b[0m\u001b[0m\n\u001b[0;32m-> 2352\u001b[0;31m                 \u001b[0mresult\u001b[0m \u001b[0;34m=\u001b[0m \u001b[0mfn\u001b[0m\u001b[0;34m(\u001b[0m\u001b[0;34m*\u001b[0m\u001b[0margs\u001b[0m\u001b[0;34m,\u001b[0m \u001b[0;34m**\u001b[0m\u001b[0mkwargs\u001b[0m\u001b[0;34m)\u001b[0m\u001b[0;34m\u001b[0m\u001b[0;34m\u001b[0m\u001b[0m\n\u001b[0m\u001b[1;32m   2353\u001b[0m             \u001b[0;32mreturn\u001b[0m \u001b[0mresult\u001b[0m\u001b[0;34m\u001b[0m\u001b[0;34m\u001b[0m\u001b[0m\n\u001b[1;32m   2354\u001b[0m \u001b[0;34m\u001b[0m\u001b[0m\n",
      "\u001b[0;32m~/env/py3/lib/python3.7/site-packages/IPython/core/magics/script.py\u001b[0m in \u001b[0;36mnamed_script_magic\u001b[0;34m(line, cell)\u001b[0m\n\u001b[1;32m    140\u001b[0m             \u001b[0;32melse\u001b[0m\u001b[0;34m:\u001b[0m\u001b[0;34m\u001b[0m\u001b[0;34m\u001b[0m\u001b[0m\n\u001b[1;32m    141\u001b[0m                 \u001b[0mline\u001b[0m \u001b[0;34m=\u001b[0m \u001b[0mscript\u001b[0m\u001b[0;34m\u001b[0m\u001b[0;34m\u001b[0m\u001b[0m\n\u001b[0;32m--> 142\u001b[0;31m             \u001b[0;32mreturn\u001b[0m \u001b[0mself\u001b[0m\u001b[0;34m.\u001b[0m\u001b[0mshebang\u001b[0m\u001b[0;34m(\u001b[0m\u001b[0mline\u001b[0m\u001b[0;34m,\u001b[0m \u001b[0mcell\u001b[0m\u001b[0;34m)\u001b[0m\u001b[0;34m\u001b[0m\u001b[0;34m\u001b[0m\u001b[0m\n\u001b[0m\u001b[1;32m    143\u001b[0m \u001b[0;34m\u001b[0m\u001b[0m\n\u001b[1;32m    144\u001b[0m         \u001b[0;31m# write a basic docstring:\u001b[0m\u001b[0;34m\u001b[0m\u001b[0;34m\u001b[0m\u001b[0;34m\u001b[0m\u001b[0m\n",
      "\u001b[0;32m</home/jinggu/env/py3/lib/python3.7/site-packages/decorator.py:decorator-gen-110>\u001b[0m in \u001b[0;36mshebang\u001b[0;34m(self, line, cell)\u001b[0m\n",
      "\u001b[0;32m~/env/py3/lib/python3.7/site-packages/IPython/core/magic.py\u001b[0m in \u001b[0;36m<lambda>\u001b[0;34m(f, *a, **k)\u001b[0m\n\u001b[1;32m    185\u001b[0m     \u001b[0;31m# but it's overkill for just that one bit of state.\u001b[0m\u001b[0;34m\u001b[0m\u001b[0;34m\u001b[0m\u001b[0;34m\u001b[0m\u001b[0m\n\u001b[1;32m    186\u001b[0m     \u001b[0;32mdef\u001b[0m \u001b[0mmagic_deco\u001b[0m\u001b[0;34m(\u001b[0m\u001b[0marg\u001b[0m\u001b[0;34m)\u001b[0m\u001b[0;34m:\u001b[0m\u001b[0;34m\u001b[0m\u001b[0;34m\u001b[0m\u001b[0m\n\u001b[0;32m--> 187\u001b[0;31m         \u001b[0mcall\u001b[0m \u001b[0;34m=\u001b[0m \u001b[0;32mlambda\u001b[0m \u001b[0mf\u001b[0m\u001b[0;34m,\u001b[0m \u001b[0;34m*\u001b[0m\u001b[0ma\u001b[0m\u001b[0;34m,\u001b[0m \u001b[0;34m**\u001b[0m\u001b[0mk\u001b[0m\u001b[0;34m:\u001b[0m \u001b[0mf\u001b[0m\u001b[0;34m(\u001b[0m\u001b[0;34m*\u001b[0m\u001b[0ma\u001b[0m\u001b[0;34m,\u001b[0m \u001b[0;34m**\u001b[0m\u001b[0mk\u001b[0m\u001b[0;34m)\u001b[0m\u001b[0;34m\u001b[0m\u001b[0;34m\u001b[0m\u001b[0m\n\u001b[0m\u001b[1;32m    188\u001b[0m \u001b[0;34m\u001b[0m\u001b[0m\n\u001b[1;32m    189\u001b[0m         \u001b[0;32mif\u001b[0m \u001b[0mcallable\u001b[0m\u001b[0;34m(\u001b[0m\u001b[0marg\u001b[0m\u001b[0;34m)\u001b[0m\u001b[0;34m:\u001b[0m\u001b[0;34m\u001b[0m\u001b[0;34m\u001b[0m\u001b[0m\n",
      "\u001b[0;32m~/env/py3/lib/python3.7/site-packages/IPython/core/magics/script.py\u001b[0m in \u001b[0;36mshebang\u001b[0;34m(self, line, cell)\u001b[0m\n\u001b[1;32m    243\u001b[0m             \u001b[0msys\u001b[0m\u001b[0;34m.\u001b[0m\u001b[0mstderr\u001b[0m\u001b[0;34m.\u001b[0m\u001b[0mflush\u001b[0m\u001b[0;34m(\u001b[0m\u001b[0;34m)\u001b[0m\u001b[0;34m\u001b[0m\u001b[0;34m\u001b[0m\u001b[0m\n\u001b[1;32m    244\u001b[0m         \u001b[0;32mif\u001b[0m \u001b[0margs\u001b[0m\u001b[0;34m.\u001b[0m\u001b[0mraise_error\u001b[0m \u001b[0;32mand\u001b[0m \u001b[0mp\u001b[0m\u001b[0;34m.\u001b[0m\u001b[0mreturncode\u001b[0m\u001b[0;34m!=\u001b[0m\u001b[0;36m0\u001b[0m\u001b[0;34m:\u001b[0m\u001b[0;34m\u001b[0m\u001b[0;34m\u001b[0m\u001b[0m\n\u001b[0;32m--> 245\u001b[0;31m             \u001b[0;32mraise\u001b[0m \u001b[0mCalledProcessError\u001b[0m\u001b[0;34m(\u001b[0m\u001b[0mp\u001b[0m\u001b[0;34m.\u001b[0m\u001b[0mreturncode\u001b[0m\u001b[0;34m,\u001b[0m \u001b[0mcell\u001b[0m\u001b[0;34m,\u001b[0m \u001b[0moutput\u001b[0m\u001b[0;34m=\u001b[0m\u001b[0mout\u001b[0m\u001b[0;34m,\u001b[0m \u001b[0mstderr\u001b[0m\u001b[0;34m=\u001b[0m\u001b[0merr\u001b[0m\u001b[0;34m)\u001b[0m\u001b[0;34m\u001b[0m\u001b[0;34m\u001b[0m\u001b[0m\n\u001b[0m\u001b[1;32m    246\u001b[0m \u001b[0;34m\u001b[0m\u001b[0m\n\u001b[1;32m    247\u001b[0m     \u001b[0;32mdef\u001b[0m \u001b[0m_run_script\u001b[0m\u001b[0;34m(\u001b[0m\u001b[0mself\u001b[0m\u001b[0;34m,\u001b[0m \u001b[0mp\u001b[0m\u001b[0;34m,\u001b[0m \u001b[0mcell\u001b[0m\u001b[0;34m,\u001b[0m \u001b[0mto_close\u001b[0m\u001b[0;34m)\u001b[0m\u001b[0;34m:\u001b[0m\u001b[0;34m\u001b[0m\u001b[0;34m\u001b[0m\u001b[0m\n",
      "\u001b[0;31mCalledProcessError\u001b[0m: Command 'b'cd /home/jinggu/softwares/PRSice-2\\nRscript PRSice.R --dir . \\\\\\n    --prsice PRSice_linux \\\\\\n    --base /home/jinggu/projects/polygenic_risks/output/lassosum/gwas/EUR.CD.gwas_info03_filtered.assoc.QC.hg38.gz \\\\\\n    --target  /home/jinggu/scratch-midway2/gtex_plink/gtex_target.QC \\\\\\n    --keep  /home/jinggu/scratch-midway2/gtex_plink/gtex_target.QC.fake.fam \\\\\\n    --extract  /home/jinggu/scratch-midway2/gtex_plink/gtex_target.QC.fake.fam \\\\\\n    --binary-target T \\\\\\n    --thread 4 \\\\\\n    --stat OR \\\\\\n    --A2 ds\\n'' returned non-zero exit status 1."
     ]
    }
   ],
   "source": [
    "%%bash\n",
    "cd /home/jinggu/softwares/PRSice-2\n",
    "Rscript PRSice.R --dir . \\\n",
    "    --prsice PRSice_linux \\\n",
    "    --base /home/jinggu/projects/polygenic_risks/output/lassosum/gwas/EUR.CD.gwas_info03_filtered.assoc.QC.hg38.gz \\\n",
    "    --target  /home/jinggu/scratch-midway2/gtex_plink/gtex_target.QC \\\n",
    "    --keep  /home/jinggu/scratch-midway2/gtex_plink/gtex_target.QC.fake.fam \\\n",
    "    --extract  /home/jinggu/scratch-midway2/gtex_plink/gtex_target.QC.fake.fam \\\n",
    "    --binary-target T \\\n",
    "    --thread 4 \\\n",
    "    --stat OR \\\n",
    "    --A2 ds"
   ]
  },
  {
   "cell_type": "code",
   "execution_count": null,
   "metadata": {},
   "outputs": [],
   "source": []
  }
 ],
 "metadata": {
  "kernelspec": {
   "display_name": "Python 3",
   "language": "python",
   "name": "python3"
  },
  "language_info": {
   "codemirror_mode": {
    "name": "ipython",
    "version": 3
   },
   "file_extension": ".py",
   "mimetype": "text/x-python",
   "name": "python",
   "nbconvert_exporter": "python",
   "pygments_lexer": "ipython3",
   "version": "3.7.6"
  }
 },
 "nbformat": 4,
 "nbformat_minor": 4
}
